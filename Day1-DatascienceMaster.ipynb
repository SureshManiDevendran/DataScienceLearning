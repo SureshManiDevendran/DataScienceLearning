{
 "cells": [
  {
   "cell_type": "code",
   "execution_count": 1,
   "id": "41fc8b0a-6bc4-43f8-982a-80679581a961",
   "metadata": {},
   "outputs": [],
   "source": [
    "a=20"
   ]
  },
  {
   "cell_type": "markdown",
   "id": "20db5a1c-1d55-4ce6-b03c-86b0042fde48",
   "metadata": {},
   "source": [
    "# Learning Python"
   ]
  },
  {
   "cell_type": "code",
   "execution_count": 9,
   "id": "56016f3b-4f0d-4212-ac84-61f1f67b75ce",
   "metadata": {},
   "outputs": [
    {
     "data": {
      "text/plain": [
       "15"
      ]
     },
     "execution_count": 10,
     "metadata": {},
     "output_type": "execute_result"
    }
   ],
   "source": [
    "## This is a function \n",
    "a=20\n",
    "a\n",
    "\"\"\"\n",
    "  Hello Multi Line Comments \"\"\"\n",
    "b=210\n",
    "b\n",
    "\n",
    "c=15\n"
   ]
  },
  {
   "cell_type": "markdown",
   "id": "cdd3bc95-0c1c-4a8c-8b1c-0526d78fe01f",
   "metadata": {},
   "source": [
    "# Numbers"
   ]
  },
  {
   "cell_type": "code",
   "execution_count": 2,
   "id": "383fd9f6-b32a-4c0b-98e2-2ff3142711b4",
   "metadata": {},
   "outputs": [
    {
     "data": {
      "text/plain": [
       "4"
      ]
     },
     "execution_count": 2,
     "metadata": {},
     "output_type": "execute_result"
    }
   ],
   "source": [
    "1+3"
   ]
  },
  {
   "cell_type": "code",
   "execution_count": 4,
   "id": "d6b99013-1e55-4d67-a369-1e27763fed44",
   "metadata": {},
   "outputs": [
    {
     "name": "stdout",
     "output_type": "stream",
     "text": [
      "4\n"
     ]
    }
   ],
   "source": [
    "print(1+3)"
   ]
  },
  {
   "cell_type": "code",
   "execution_count": 12,
   "id": "84e5e488-e674-4eac-938f-5dbeece30b99",
   "metadata": {},
   "outputs": [
    {
     "name": "stdout",
     "output_type": "stream",
     "text": [
      "Hello World ,i am Senior Dot Net Developer \n",
      " works in pw skills\n"
     ]
    }
   ],
   "source": [
    "print(\"Hello World ,i am Senior Dot Net Developer \\n works in pw skills\")"
   ]
  },
  {
   "cell_type": "code",
   "execution_count": 13,
   "id": "e9d88e95-64d5-47e2-9157-7bbcb3bcab6f",
   "metadata": {},
   "outputs": [
    {
     "data": {
      "text/plain": [
       "'\\n Hello World\\n Suresh \\n Car\\n House\\n'"
      ]
     },
     "execution_count": 13,
     "metadata": {},
     "output_type": "execute_result"
    }
   ],
   "source": [
    "\"\"\" Hello World Suresh Car\n",
    " House\n",
    "\"\"\""
   ]
  },
  {
   "cell_type": "markdown",
   "id": "3cdfd812-843b-4097-a8a1-a202982d8cf3",
   "metadata": {},
   "source": [
    "## Variables Assignment"
   ]
  },
  {
   "cell_type": "code",
   "execution_count": 39,
   "id": "a5bcb8b7-9afc-4692-b189-59878535d217",
   "metadata": {},
   "outputs": [],
   "source": [
    "Country=\"India\"\n",
    "Pin=\"91\"\n",
    "CompanyName=\"Ineuron\""
   ]
  },
  {
   "cell_type": "code",
   "execution_count": 40,
   "id": "2f1eb614-6d2c-4bb6-ba64-cd2ec8b6285a",
   "metadata": {},
   "outputs": [
    {
     "data": {
      "text/plain": [
       "'India'"
      ]
     },
     "execution_count": 40,
     "metadata": {},
     "output_type": "execute_result"
    }
   ],
   "source": [
    "Country"
   ]
  },
  {
   "cell_type": "code",
   "execution_count": 41,
   "id": "43587ce2-de05-438f-b94f-45ecccb5d043",
   "metadata": {},
   "outputs": [
    {
     "data": {
      "text/plain": [
       "'Ineuron'"
      ]
     },
     "execution_count": 41,
     "metadata": {},
     "output_type": "execute_result"
    }
   ],
   "source": [
    "CompanyName"
   ]
  },
  {
   "cell_type": "code",
   "execution_count": 43,
   "id": "0a9c5c33-c237-4c83-9a8b-f907814f7d52",
   "metadata": {},
   "outputs": [
    {
     "data": {
      "text/plain": [
       "'91'"
      ]
     },
     "execution_count": 43,
     "metadata": {},
     "output_type": "execute_result"
    }
   ],
   "source": [
    "Pin"
   ]
  },
  {
   "cell_type": "code",
   "execution_count": 44,
   "id": "ef40549a-4ae4-4c24-a2a9-9dc2dd3554fd",
   "metadata": {},
   "outputs": [],
   "source": [
    "decimal_num=2.5"
   ]
  },
  {
   "cell_type": "code",
   "execution_count": 45,
   "id": "ec389be5-01c6-4c95-836b-f6b0d7cf5bfd",
   "metadata": {},
   "outputs": [
    {
     "data": {
      "text/plain": [
       "2.5"
      ]
     },
     "execution_count": 45,
     "metadata": {},
     "output_type": "execute_result"
    }
   ],
   "source": [
    "decimal_num"
   ]
  },
  {
   "cell_type": "code",
   "execution_count": 46,
   "id": "02eb2255-624e-4a8c-85e5-b130c71b1d23",
   "metadata": {},
   "outputs": [
    {
     "data": {
      "text/plain": [
       "float"
      ]
     },
     "execution_count": 46,
     "metadata": {},
     "output_type": "execute_result"
    }
   ],
   "source": [
    "type(decimal_num)"
   ]
  },
  {
   "cell_type": "code",
   "execution_count": 47,
   "id": "cf05c639-6e24-4cad-b2d4-84520ba069cb",
   "metadata": {},
   "outputs": [],
   "source": [
    "number=10"
   ]
  },
  {
   "cell_type": "code",
   "execution_count": 48,
   "id": "0c99084b-d772-429f-a817-81b7d1e29c05",
   "metadata": {},
   "outputs": [
    {
     "data": {
      "text/plain": [
       "10"
      ]
     },
     "execution_count": 48,
     "metadata": {},
     "output_type": "execute_result"
    }
   ],
   "source": [
    "number"
   ]
  },
  {
   "cell_type": "code",
   "execution_count": 49,
   "id": "5aa143a1-eda6-4ac8-b8b6-8ab1b9c2fe03",
   "metadata": {},
   "outputs": [
    {
     "data": {
      "text/plain": [
       "int"
      ]
     },
     "execution_count": 49,
     "metadata": {},
     "output_type": "execute_result"
    }
   ],
   "source": [
    "type(number)"
   ]
  },
  {
   "cell_type": "code",
   "execution_count": 50,
   "id": "361ecd50-b9ff-44d5-9232-b7baa904a35c",
   "metadata": {},
   "outputs": [
    {
     "data": {
      "text/plain": [
       "str"
      ]
     },
     "execution_count": 50,
     "metadata": {},
     "output_type": "execute_result"
    }
   ],
   "source": [
    "type('')"
   ]
  },
  {
   "cell_type": "code",
   "execution_count": 53,
   "id": "cb9c19c3-60a2-4677-9962-270e9378e10f",
   "metadata": {},
   "outputs": [
    {
     "data": {
      "text/plain": [
       "str"
      ]
     },
     "execution_count": 53,
     "metadata": {},
     "output_type": "execute_result"
    }
   ],
   "source": [
    "type(\"\")"
   ]
  },
  {
   "cell_type": "code",
   "execution_count": 54,
   "id": "384a3e13-b5c3-4d73-a6df-5c9b43921724",
   "metadata": {},
   "outputs": [
    {
     "ename": "NameError",
     "evalue": "name 'i' is not defined",
     "output_type": "error",
     "traceback": [
      "\u001b[0;31m---------------------------------------------------------------------------\u001b[0m",
      "\u001b[0;31mNameError\u001b[0m                                 Traceback (most recent call last)",
      "Cell \u001b[0;32mIn[54], line 1\u001b[0m\n\u001b[0;32m----> 1\u001b[0m \u001b[43mi\u001b[49m\u001b[38;5;241m+\u001b[39m\u001b[38;5;241m2\u001b[39mj\n",
      "\u001b[0;31mNameError\u001b[0m: name 'i' is not defined"
     ]
    }
   ],
   "source": [
    "i+2j"
   ]
  },
  {
   "cell_type": "code",
   "execution_count": 55,
   "id": "63f07781-b230-4cf2-a98b-46dfe9b78cb2",
   "metadata": {},
   "outputs": [
    {
     "data": {
      "text/plain": [
       "(1+2j)"
      ]
     },
     "execution_count": 55,
     "metadata": {},
     "output_type": "execute_result"
    }
   ],
   "source": [
    "1+2j"
   ]
  },
  {
   "cell_type": "code",
   "execution_count": 56,
   "id": "b3ffb050-24e4-4c37-be00-ea6bc122da0b",
   "metadata": {},
   "outputs": [
    {
     "data": {
      "text/plain": [
       "complex"
      ]
     },
     "execution_count": 56,
     "metadata": {},
     "output_type": "execute_result"
    }
   ],
   "source": [
    "type(1+2j)"
   ]
  },
  {
   "cell_type": "code",
   "execution_count": 57,
   "id": "35d4d178-6dc6-4a07-a28f-5f585415dcb5",
   "metadata": {},
   "outputs": [],
   "source": [
    "### boolean"
   ]
  },
  {
   "cell_type": "code",
   "execution_count": 59,
   "id": "a934b683-6e63-4d85-9cde-6be6f5190a3c",
   "metadata": {},
   "outputs": [
    {
     "data": {
      "text/plain": [
       "True"
      ]
     },
     "execution_count": 59,
     "metadata": {},
     "output_type": "execute_result"
    }
   ],
   "source": [
    "True"
   ]
  },
  {
   "cell_type": "code",
   "execution_count": 60,
   "id": "9b5f6227-e2a2-46a0-a99c-15fec4123ad5",
   "metadata": {},
   "outputs": [
    {
     "data": {
      "text/plain": [
       "False"
      ]
     },
     "execution_count": 60,
     "metadata": {},
     "output_type": "execute_result"
    }
   ],
   "source": [
    "False"
   ]
  },
  {
   "cell_type": "code",
   "execution_count": 63,
   "id": "f092da6c-a097-4ae5-a06e-188d85bc5a4e",
   "metadata": {},
   "outputs": [
    {
     "data": {
      "text/plain": [
       "False"
      ]
     },
     "execution_count": 63,
     "metadata": {},
     "output_type": "execute_result"
    }
   ],
   "source": [
    "True and False"
   ]
  },
  {
   "cell_type": "code",
   "execution_count": 64,
   "id": "f5d7de82-4a5c-473d-ba80-294847d13c04",
   "metadata": {},
   "outputs": [
    {
     "data": {
      "text/plain": [
       "True"
      ]
     },
     "execution_count": 64,
     "metadata": {},
     "output_type": "execute_result"
    }
   ],
   "source": [
    "True or False"
   ]
  },
  {
   "cell_type": "code",
   "execution_count": 66,
   "id": "2c55d16c-d3d8-43e6-9e67-0b99c3e47064",
   "metadata": {},
   "outputs": [
    {
     "data": {
      "text/plain": [
       "False"
      ]
     },
     "execution_count": 66,
     "metadata": {},
     "output_type": "execute_result"
    }
   ],
   "source": [
    "not True "
   ]
  },
  {
   "cell_type": "code",
   "execution_count": 69,
   "id": "03f8dec1-c6b5-4c96-abf5-f9cb22b1c92f",
   "metadata": {},
   "outputs": [
    {
     "data": {
      "text/plain": [
       "bool"
      ]
     },
     "execution_count": 69,
     "metadata": {},
     "output_type": "execute_result"
    }
   ],
   "source": [
    "type(not False)\n"
   ]
  },
  {
   "cell_type": "code",
   "execution_count": null,
   "id": "fc07d55f-89f3-45df-92e3-5417d4e6a3e1",
   "metadata": {},
   "outputs": [],
   "source": [
    "# Type Casting"
   ]
  },
  {
   "cell_type": "code",
   "execution_count": 70,
   "id": "5471d343-22ea-4320-b916-13e1aa1d96c8",
   "metadata": {},
   "outputs": [
    {
     "data": {
      "text/plain": [
       "False"
      ]
     },
     "execution_count": 70,
     "metadata": {},
     "output_type": "execute_result"
    }
   ],
   "source": [
    "bool(0)"
   ]
  },
  {
   "cell_type": "code",
   "execution_count": 71,
   "id": "b9217f60-ae3b-411b-82c5-4d3a0957d3fd",
   "metadata": {},
   "outputs": [
    {
     "data": {
      "text/plain": [
       "True"
      ]
     },
     "execution_count": 71,
     "metadata": {},
     "output_type": "execute_result"
    }
   ],
   "source": [
    "bool(1)"
   ]
  },
  {
   "cell_type": "code",
   "execution_count": 72,
   "id": "56b9dd7d-9e86-4540-ae44-1903dc3754b6",
   "metadata": {},
   "outputs": [
    {
     "data": {
      "text/plain": [
       "bool"
      ]
     },
     "execution_count": 72,
     "metadata": {},
     "output_type": "execute_result"
    }
   ],
   "source": [
    "type(bool(0))"
   ]
  },
  {
   "cell_type": "code",
   "execution_count": 74,
   "id": "a1ed533f-e125-4570-852b-fb86a055a9c6",
   "metadata": {},
   "outputs": [
    {
     "name": "stdout",
     "output_type": "stream",
     "text": [
      "Success\n"
     ]
    }
   ],
   "source": [
    "if bool(1) == True:\n",
    " print(\"Success\")"
   ]
  },
  {
   "cell_type": "code",
   "execution_count": 75,
   "id": "634b96be-eff8-41dd-a72c-9177c2c886fb",
   "metadata": {},
   "outputs": [
    {
     "data": {
      "text/plain": [
       "23"
      ]
     },
     "execution_count": 75,
     "metadata": {},
     "output_type": "execute_result"
    }
   ],
   "source": [
    "int('23')"
   ]
  },
  {
   "cell_type": "code",
   "execution_count": 76,
   "id": "8e7e7af5-0052-46a2-b259-8b57c913718a",
   "metadata": {},
   "outputs": [
    {
     "data": {
      "text/plain": [
       "int"
      ]
     },
     "execution_count": 76,
     "metadata": {},
     "output_type": "execute_result"
    }
   ],
   "source": [
    "type(int('23'))"
   ]
  },
  {
   "cell_type": "markdown",
   "id": "645e7abb-51e6-4eea-8a8e-3890feb3c68f",
   "metadata": {},
   "source": [
    "## Dynamic Typing"
   ]
  },
  {
   "cell_type": "code",
   "execution_count": null,
   "id": "5d49d387-251c-42f7-8ee0-18c1974e7293",
   "metadata": {},
   "outputs": [],
   "source": [
    "a=20\n",
    "name1=\"india\"\n",
    "a=\"Var\""
   ]
  },
  {
   "cell_type": "code",
   "execution_count": 79,
   "id": "95ea2157-4bb9-4be0-90bd-1e72283f07c0",
   "metadata": {},
   "outputs": [
    {
     "name": "stdout",
     "output_type": "stream",
     "text": [
      "Var\n"
     ]
    }
   ],
   "source": [
    "print(a)"
   ]
  },
  {
   "cell_type": "code",
   "execution_count": 80,
   "id": "5f8a7140-44e9-4987-b97b-53adc054b71e",
   "metadata": {},
   "outputs": [
    {
     "name": "stdout",
     "output_type": "stream",
     "text": [
      "india\n"
     ]
    }
   ],
   "source": [
    "print(name1)"
   ]
  },
  {
   "cell_type": "code",
   "execution_count": 81,
   "id": "c9b78a33-72a9-45a1-a3f8-05b1ad9d6ca1",
   "metadata": {},
   "outputs": [
    {
     "ename": "ValueError",
     "evalue": "invalid literal for int() with base 10: 'abc'",
     "output_type": "error",
     "traceback": [
      "\u001b[0;31m---------------------------------------------------------------------------\u001b[0m",
      "\u001b[0;31mValueError\u001b[0m                                Traceback (most recent call last)",
      "Cell \u001b[0;32mIn[81], line 1\u001b[0m\n\u001b[0;32m----> 1\u001b[0m \u001b[38;5;28;43mint\u001b[39;49m\u001b[43m(\u001b[49m\u001b[38;5;124;43m'\u001b[39;49m\u001b[38;5;124;43mabc\u001b[39;49m\u001b[38;5;124;43m'\u001b[39;49m\u001b[43m)\u001b[49m\n",
      "\u001b[0;31mValueError\u001b[0m: invalid literal for int() with base 10: 'abc'"
     ]
    }
   ],
   "source": [
    "int('abc')"
   ]
  },
  {
   "cell_type": "code",
   "execution_count": 82,
   "id": "d7fef129-de7d-44bc-9c71-570183a79bdf",
   "metadata": {},
   "outputs": [
    {
     "data": {
      "text/plain": [
       "1"
      ]
     },
     "execution_count": 82,
     "metadata": {},
     "output_type": "execute_result"
    }
   ],
   "source": [
    "int(1.5)"
   ]
  },
  {
   "cell_type": "code",
   "execution_count": 83,
   "id": "26011737-80cf-41d6-944d-8756739752a9",
   "metadata": {},
   "outputs": [],
   "source": [
    "## Concatenation between diffrent types"
   ]
  },
  {
   "cell_type": "code",
   "execution_count": 86,
   "id": "f9c3e23b-b36a-4259-9f96-14e2648be4aa",
   "metadata": {},
   "outputs": [
    {
     "data": {
      "text/plain": [
       "'1abc'"
      ]
     },
     "execution_count": 86,
     "metadata": {},
     "output_type": "execute_result"
    }
   ],
   "source": [
    "\"1\"+\"abc\""
   ]
  },
  {
   "cell_type": "code",
   "execution_count": 95,
   "id": "09316ba2-8921-4cd1-b52c-02c672590988",
   "metadata": {},
   "outputs": [
    {
     "data": {
      "text/plain": [
       "1"
      ]
     },
     "execution_count": 95,
     "metadata": {},
     "output_type": "execute_result"
    }
   ],
   "source": [
    "int(\"1\") + 0"
   ]
  },
  {
   "cell_type": "code",
   "execution_count": 96,
   "id": "b840be0c-45de-4775-8d22-8a61e95601ee",
   "metadata": {},
   "outputs": [
    {
     "data": {
      "text/plain": [
       "7.2"
      ]
     },
     "execution_count": 96,
     "metadata": {},
     "output_type": "execute_result"
    }
   ],
   "source": [
    "int(\"2\")+5.2"
   ]
  },
  {
   "cell_type": "code",
   "execution_count": 97,
   "id": "14b81dde-1638-4b88-9f0f-1361f3d64530",
   "metadata": {},
   "outputs": [
    {
     "data": {
      "text/plain": [
       "12.0"
      ]
     },
     "execution_count": 97,
     "metadata": {},
     "output_type": "execute_result"
    }
   ],
   "source": [
    "int(\"3\")+9.0"
   ]
  },
  {
   "cell_type": "code",
   "execution_count": 98,
   "id": "f1f5a365-8a09-4d16-a6b0-c6d5cb965225",
   "metadata": {},
   "outputs": [
    {
     "data": {
      "text/plain": [
       "''"
      ]
     },
     "execution_count": 98,
     "metadata": {},
     "output_type": "execute_result"
    }
   ],
   "source": [
    "\"1\"*0"
   ]
  },
  {
   "cell_type": "code",
   "execution_count": 99,
   "id": "709ac4d1-2791-405e-84b9-8b9a24b00e01",
   "metadata": {},
   "outputs": [
    {
     "data": {
      "text/plain": [
       "'1111111111111111111111111111111111111111111111111111111111111111111111111111111111111111111111111111'"
      ]
     },
     "execution_count": 99,
     "metadata": {},
     "output_type": "execute_result"
    }
   ],
   "source": [
    "\"1\" * 100"
   ]
  },
  {
   "cell_type": "code",
   "execution_count": 100,
   "id": "b76e3c53-1aec-4cc5-b58b-0d19b370c3a0",
   "metadata": {},
   "outputs": [
    {
     "ename": "TypeError",
     "evalue": "can't multiply sequence by non-int of type 'str'",
     "output_type": "error",
     "traceback": [
      "\u001b[0;31m---------------------------------------------------------------------------\u001b[0m",
      "\u001b[0;31mTypeError\u001b[0m                                 Traceback (most recent call last)",
      "Cell \u001b[0;32mIn[100], line 1\u001b[0m\n\u001b[0;32m----> 1\u001b[0m \u001b[38;5;124;43m\"\u001b[39;49m\u001b[38;5;124;43m1\u001b[39;49m\u001b[38;5;124;43m\"\u001b[39;49m\u001b[38;5;241;43m*\u001b[39;49m\u001b[38;5;124;43m\"\u001b[39;49m\u001b[38;5;124;43m2\u001b[39;49m\u001b[38;5;124;43m\"\u001b[39;49m\n",
      "\u001b[0;31mTypeError\u001b[0m: can't multiply sequence by non-int of type 'str'"
     ]
    }
   ],
   "source": [
    "\"1\"*\"2\""
   ]
  },
  {
   "cell_type": "code",
   "execution_count": 101,
   "id": "50ab9897-28ba-45a4-a204-6accf4c68461",
   "metadata": {},
   "outputs": [
    {
     "data": {
      "text/plain": [
       "'qqqqqqqqqqqqqqqqqqqqqqqqqqqqqqqqqqqqqqqqqqqqqqqqqqqqqqqqqqqqqqqqqqqqqqqqqqqqqqqqqqqqqqqqqqqqqqqqqqqq'"
      ]
     },
     "execution_count": 101,
     "metadata": {},
     "output_type": "execute_result"
    }
   ],
   "source": [
    "\"q\"*100"
   ]
  },
  {
   "cell_type": "code",
   "execution_count": 102,
   "id": "817c5a63-b4dd-4be9-b993-e5d901665a21",
   "metadata": {},
   "outputs": [
    {
     "data": {
      "text/plain": [
       "'123123123123123123123123123123123123123123123123123123123123123'"
      ]
     },
     "execution_count": 102,
     "metadata": {},
     "output_type": "execute_result"
    }
   ],
   "source": [
    "\"123\"*21"
   ]
  },
  {
   "cell_type": "code",
   "execution_count": null,
   "id": "32b397db-d9ba-4861-9ec7-63e0291707ef",
   "metadata": {},
   "outputs": [],
   "source": []
  }
 ],
 "metadata": {
  "kernelspec": {
   "display_name": "Python 3 (ipykernel)",
   "language": "python",
   "name": "python3"
  },
  "language_info": {
   "codemirror_mode": {
    "name": "ipython",
    "version": 3
   },
   "file_extension": ".py",
   "mimetype": "text/x-python",
   "name": "python",
   "nbconvert_exporter": "python",
   "pygments_lexer": "ipython3",
   "version": "3.10.8"
  }
 },
 "nbformat": 4,
 "nbformat_minor": 5
}
